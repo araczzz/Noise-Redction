{
  "cells": [
    {
      "cell_type": "code",
      "execution_count": 2,
      "metadata": {
        "ExecuteTime": {
          "end_time": "2020-01-24T06:23:43.350443Z",
          "start_time": "2020-01-24T06:23:43.339644Z"
        },
        "id": "T5DZogRpzTui"
      },
      "outputs": [],
      "source": [
        "%load_ext autoreload\n",
        "%autoreload 2\n",
        "#%env CUDA_VISIBLE_DEVICES=3"
      ]
    },
    {
      "cell_type": "markdown",
      "metadata": {
        "id": "hTeqPKkCzTut"
      },
      "source": [
        "#### Download packages if in Google Colab"
      ]
    },
    {
      "cell_type": "code",
      "execution_count": 3,
      "metadata": {
        "ExecuteTime": {
          "end_time": "2020-01-24T06:23:43.360160Z",
          "start_time": "2020-01-24T06:23:43.352241Z"
        },
        "id": "ZxPdpnbNzTuy"
      },
      "outputs": [],
      "source": [
        "colab_requirements = [\n",
        "    \"pip install librosa\",\n",
        "    \"pip install noisereduce\",\n",
        "    \"pip install soundfile\",\n",
        "\n",
        "]\n",
        "\n",
        "import sys, subprocess\n",
        "\n",
        "def run_subprocess_command(cmd):\n",
        "    # run the command\n",
        "    process = subprocess.Popen(cmd.split(), stdout=subprocess.PIPE)\n",
        "    # print the output\n",
        "    for line in process.stdout:\n",
        "        print(line.decode().strip())\n",
        "\n",
        "IN_COLAB = \"google.colab\" in sys.modules\n",
        "if IN_COLAB:\n",
        "    for i in colab_requirements:\n",
        "        run_subprocess_command(i)"
      ]
    },
    {
      "cell_type": "markdown",
      "metadata": {
        "id": "-GN5tT4izTu0"
      },
      "source": [
        "# Test noise reduction algorithm and view steps of algorithm"
      ]
    },
    {
      "cell_type": "code",
      "execution_count": 5,
      "metadata": {
        "ExecuteTime": {
          "end_time": "2020-01-24T06:23:45.000667Z",
          "start_time": "2020-01-24T06:23:43.361344Z"
        },
        "id": "IHSI9zYZzTu2"
      },
      "outputs": [
        {
          "name": "stderr",
          "output_type": "stream",
          "text": [
            "c:\\Users\\91704\\AppData\\Local\\Programs\\Python\\Python310\\lib\\site-packages\\tqdm\\auto.py:21: TqdmWarning: IProgress not found. Please update jupyter and ipywidgets. See https://ipywidgets.readthedocs.io/en/stable/user_install.html\n",
            "  from .autonotebook import tqdm as notebook_tqdm\n"
          ]
        }
      ],
      "source": [
        "import IPython\n",
        "from scipy.io import wavfile\n",
        "import noisereduce as nr\n",
        "import soundfile as sf\n",
        "from noisereduce.generate_noise import band_limited_noise\n",
        "import matplotlib.pyplot as plt\n",
        "import urllib.request\n",
        "import numpy as np\n",
        "import io\n",
        "%matplotlib inline"
      ]
    },
    {
      "cell_type": "markdown",
      "metadata": {
        "id": "f2Gyc1oZzTu3"
      },
      "source": [
        "### Load data"
      ]
    },
    {
      "cell_type": "code",
      "execution_count": null,
      "metadata": {
        "ExecuteTime": {
          "end_time": "2020-01-24T06:23:45.378188Z",
          "start_time": "2020-01-24T06:23:45.002029Z"
        },
        "id": "LEFyRYwpzTu4"
      },
      "outputs": [
        {
          "ename": "",
          "evalue": "",
          "output_type": "error",
          "traceback": [
            "\u001b[1;31mFailed to start the Kernel. \n",
            "\u001b[1;31mUnable to start Kernel 'Python 3.10.8' due to connection timeout. \n",
            "\u001b[1;31mView Jupyter <a href='command:jupyter.viewOutput'>log</a> for further details."
          ]
        }
      ],
      "source": [
        "url = \"https://raw.githubusercontent.com/timsainb/noisereduce/master/assets/fish.wav\"\n",
        "response = urllib.request.urlopen(url)\n",
        "data, rate = sf.read(io.BytesIO(response.read()))\n",
        "data = data"
      ]
    },
    {
      "cell_type": "code",
      "execution_count": null,
      "metadata": {
        "ExecuteTime": {
          "end_time": "2020-01-24T06:23:45.451295Z",
          "start_time": "2020-01-24T06:23:45.380357Z"
        },
        "id": "omrl_GBAzTu6",
        "outputId": "0832db13-652c-41b2-d328-0217709f787a"
      },
      "outputs": [
        {
          "ename": "",
          "evalue": "",
          "output_type": "error",
          "traceback": [
            "\u001b[1;31mFailed to start the Kernel. \n",
            "\u001b[1;31mUnable to start Kernel 'Python 3.10.8' due to connection timeout. \n",
            "\u001b[1;31mView Jupyter <a href='command:jupyter.viewOutput'>log</a> for further details."
          ]
        }
      ],
      "source": [
        "IPython.display.Audio(data=data, rate=rate)"
      ]
    },
    {
      "cell_type": "code",
      "execution_count": null,
      "metadata": {
        "ExecuteTime": {
          "end_time": "2020-01-24T06:23:45.730517Z",
          "start_time": "2020-01-24T06:23:45.454586Z"
        },
        "id": "wEilgEc-zTu-",
        "outputId": "69db9f2e-c458-40cb-9b74-4b21ed199733"
      },
      "outputs": [
        {
          "ename": "",
          "evalue": "",
          "output_type": "error",
          "traceback": [
            "\u001b[1;31mFailed to start the Kernel. \n",
            "\u001b[1;31mUnable to start Kernel 'Python 3.10.8' due to connection timeout. \n",
            "\u001b[1;31mView Jupyter <a href='command:jupyter.viewOutput'>log</a> for further details."
          ]
        }
      ],
      "source": [
        "fig, ax = plt.subplots(figsize=(20,3))\n",
        "ax.plot(data)"
      ]
    },
    {
      "cell_type": "markdown",
      "metadata": {
        "id": "viNQoIPWzTu_"
      },
      "source": [
        "### add noise"
      ]
    },
    {
      "cell_type": "code",
      "execution_count": null,
      "metadata": {
        "ExecuteTime": {
          "end_time": "2020-01-24T06:23:45.789926Z",
          "start_time": "2020-01-24T06:23:45.731671Z"
        },
        "id": "v2pCaGxLzTvA"
      },
      "outputs": [
        {
          "ename": "",
          "evalue": "",
          "output_type": "error",
          "traceback": [
            "\u001b[1;31mFailed to start the Kernel. \n",
            "\u001b[1;31mUnable to start Kernel 'Python 3.10.8' due to connection timeout. \n",
            "\u001b[1;31mView Jupyter <a href='command:jupyter.viewOutput'>log</a> for further details."
          ]
        }
      ],
      "source": [
        "noise_len = 2 # seconds\n",
        "noise = band_limited_noise(min_freq=2000, max_freq = 12000, samples=len(data), samplerate=rate)*10\n",
        "noise_clip = noise[:rate*noise_len]\n",
        "audio_clip_band_limited = data+noise"
      ]
    },
    {
      "cell_type": "code",
      "execution_count": null,
      "metadata": {
        "ExecuteTime": {
          "end_time": "2020-01-24T06:23:46.068009Z",
          "start_time": "2020-01-24T06:23:45.791074Z"
        },
        "id": "jOFeNVHjzTvB",
        "outputId": "f98adbca-33d9-4f17-9b77-1315d67af0f2"
      },
      "outputs": [
        {
          "ename": "",
          "evalue": "",
          "output_type": "error",
          "traceback": [
            "\u001b[1;31mFailed to start the Kernel. \n",
            "\u001b[1;31mUnable to start Kernel 'Python 3.10.8' due to connection timeout. \n",
            "\u001b[1;31mView Jupyter <a href='command:jupyter.viewOutput'>log</a> for further details."
          ]
        }
      ],
      "source": [
        "fig, ax = plt.subplots(figsize=(20,3))\n",
        "ax.plot(audio_clip_band_limited)"
      ]
    },
    {
      "cell_type": "code",
      "execution_count": null,
      "metadata": {
        "ExecuteTime": {
          "end_time": "2020-01-24T06:23:46.136220Z",
          "start_time": "2020-01-24T06:23:46.069398Z"
        },
        "id": "Mjrf52wgzTvC",
        "outputId": "7358749c-012a-4881-c690-005af7b0d934"
      },
      "outputs": [
        {
          "ename": "",
          "evalue": "",
          "output_type": "error",
          "traceback": [
            "\u001b[1;31mFailed to start the Kernel. \n",
            "\u001b[1;31mUnable to start Kernel 'Python 3.10.8' due to connection timeout. \n",
            "\u001b[1;31mView Jupyter <a href='command:jupyter.viewOutput'>log</a> for further details."
          ]
        }
      ],
      "source": [
        "IPython.display.Audio(data=audio_clip_band_limited, rate=rate)"
      ]
    },
    {
      "cell_type": "markdown",
      "metadata": {
        "id": "Yo9yCqcBzTvE"
      },
      "source": [
        "### Stationary remove noise"
      ]
    },
    {
      "cell_type": "code",
      "execution_count": null,
      "metadata": {
        "ExecuteTime": {
          "end_time": "2020-01-24T06:23:47.537123Z",
          "start_time": "2020-01-24T06:23:46.137584Z"
        },
        "id": "a7W6RPqBzTvF",
        "scrolled": false
      },
      "outputs": [
        {
          "ename": "",
          "evalue": "",
          "output_type": "error",
          "traceback": [
            "\u001b[1;31mFailed to start the Kernel. \n",
            "\u001b[1;31mUnable to start Kernel 'Python 3.10.8' due to connection timeout. \n",
            "\u001b[1;31mView Jupyter <a href='command:jupyter.viewOutput'>log</a> for further details."
          ]
        }
      ],
      "source": [
        "reduced_noise = nr.reduce_noise(y = audio_clip_band_limited, sr=rate, n_std_thresh_stationary=1.5,stationary=True)"
      ]
    },
    {
      "cell_type": "code",
      "execution_count": null,
      "metadata": {
        "ExecuteTime": {
          "end_time": "2020-01-24T06:23:47.794652Z",
          "start_time": "2020-01-24T06:23:47.540334Z"
        },
        "id": "wk4f2exFzTvG",
        "outputId": "8ec7af47-1fba-4206-8721-9455575be707"
      },
      "outputs": [
        {
          "ename": "",
          "evalue": "",
          "output_type": "error",
          "traceback": [
            "\u001b[1;31mFailed to start the Kernel. \n",
            "\u001b[1;31mUnable to start Kernel 'Python 3.10.8' due to connection timeout. \n",
            "\u001b[1;31mView Jupyter <a href='command:jupyter.viewOutput'>log</a> for further details."
          ]
        }
      ],
      "source": [
        "fig, ax = plt.subplots(figsize=(20,3))\n",
        "ax.plot(reduced_noise)"
      ]
    },
    {
      "cell_type": "code",
      "execution_count": null,
      "metadata": {
        "ExecuteTime": {
          "end_time": "2020-01-24T06:23:47.863889Z",
          "start_time": "2020-01-24T06:23:47.796686Z"
        },
        "id": "lYIYp9RQzTvH",
        "outputId": "2e750857-85aa-4108-815b-0decadeb1fca"
      },
      "outputs": [
        {
          "ename": "",
          "evalue": "",
          "output_type": "error",
          "traceback": [
            "\u001b[1;31mFailed to start the Kernel. \n",
            "\u001b[1;31mUnable to start Kernel 'Python 3.10.8' due to connection timeout. \n",
            "\u001b[1;31mView Jupyter <a href='command:jupyter.viewOutput'>log</a> for further details."
          ]
        }
      ],
      "source": [
        "IPython.display.Audio(data=reduced_noise, rate=rate)"
      ]
    },
    {
      "cell_type": "markdown",
      "metadata": {
        "id": "tK78LayVzTvJ"
      },
      "source": [
        "### Non-stationary noise reduction"
      ]
    },
    {
      "cell_type": "code",
      "execution_count": null,
      "metadata": {
        "id": "A-ReirF6zTvJ",
        "outputId": "fdf5cc09-d341-4fdf-a98d-d7b2847c7c57"
      },
      "outputs": [
        {
          "ename": "",
          "evalue": "",
          "output_type": "error",
          "traceback": [
            "\u001b[1;31mFailed to start the Kernel. \n",
            "\u001b[1;31mUnable to start Kernel 'Python 3.10.8' due to connection timeout. \n",
            "\u001b[1;31mView Jupyter <a href='command:jupyter.viewOutput'>log</a> for further details."
          ]
        }
      ],
      "source": [
        "reduced_noise = nr.reduce_noise(y = audio_clip_band_limited, sr=rate, thresh_n_mult_nonstationary=2,stationary=False)"
      ]
    },
    {
      "cell_type": "code",
      "execution_count": null,
      "metadata": {
        "id": "iysc2wttzTvK",
        "outputId": "347fdc2e-c4d5-4f2c-f4fb-276daa93ee93"
      },
      "outputs": [
        {
          "ename": "",
          "evalue": "",
          "output_type": "error",
          "traceback": [
            "\u001b[1;31mFailed to start the Kernel. \n",
            "\u001b[1;31mUnable to start Kernel 'Python 3.10.8' due to connection timeout. \n",
            "\u001b[1;31mView Jupyter <a href='command:jupyter.viewOutput'>log</a> for further details."
          ]
        }
      ],
      "source": [
        "fig, ax = plt.subplots(figsize=(20,3))\n",
        "ax.plot(reduced_noise)"
      ]
    },
    {
      "cell_type": "markdown",
      "metadata": {
        "ExecuteTime": {
          "end_time": "2019-03-06T20:38:03.940928Z",
          "start_time": "2019-03-06T20:38:03.781906Z"
        },
        "id": "FGX-qP9SzTvP"
      },
      "source": [
        "## A more difficult example "
      ]
    },
    {
      "cell_type": "code",
      "execution_count": null,
      "metadata": {
        "ExecuteTime": {
          "end_time": "2020-01-24T06:23:48.105354Z",
          "start_time": "2020-01-24T06:23:47.865305Z"
        },
        "id": "_TrtgL37zTvQ"
      },
      "outputs": [
        {
          "ename": "",
          "evalue": "",
          "output_type": "error",
          "traceback": [
            "\u001b[1;31mFailed to start the Kernel. \n",
            "\u001b[1;31mUnable to start Kernel 'Python 3.10.8' due to connection timeout. \n",
            "\u001b[1;31mView Jupyter <a href='command:jupyter.viewOutput'>log</a> for further details."
          ]
        }
      ],
      "source": [
        "url = \"https://raw.githubusercontent.com/timsainb/noisereduce/master/assets/cafe_short.wav\"\n",
        "response = urllib.request.urlopen(url)\n",
        "noise_data, noise_rate = sf.read(io.BytesIO(response.read()))"
      ]
    },
    {
      "cell_type": "code",
      "execution_count": null,
      "metadata": {
        "ExecuteTime": {
          "end_time": "2020-01-24T06:23:48.387747Z",
          "start_time": "2020-01-24T06:23:48.106920Z"
        },
        "id": "Cm_MVflTzTvR",
        "outputId": "d5dfe865-8cb3-4575-b324-aa7613375a29"
      },
      "outputs": [
        {
          "ename": "",
          "evalue": "",
          "output_type": "error",
          "traceback": [
            "\u001b[1;31mFailed to start the Kernel. \n",
            "\u001b[1;31mUnable to start Kernel 'Python 3.10.8' due to connection timeout. \n",
            "\u001b[1;31mView Jupyter <a href='command:jupyter.viewOutput'>log</a> for further details."
          ]
        }
      ],
      "source": [
        "fig, ax = plt.subplots(figsize=(20,4))\n",
        "ax.plot(noise_data)"
      ]
    },
    {
      "cell_type": "code",
      "execution_count": null,
      "metadata": {
        "ExecuteTime": {
          "end_time": "2020-01-24T06:23:48.455695Z",
          "start_time": "2020-01-24T06:23:48.389339Z"
        },
        "id": "v_PraGk4zTvT",
        "outputId": "6c15d134-4011-4204-834a-3f2d6bd777f5"
      },
      "outputs": [
        {
          "ename": "",
          "evalue": "",
          "output_type": "error",
          "traceback": [
            "\u001b[1;31mFailed to start the Kernel. \n",
            "\u001b[1;31mUnable to start Kernel 'Python 3.10.8' due to connection timeout. \n",
            "\u001b[1;31mView Jupyter <a href='command:jupyter.viewOutput'>log</a> for further details."
          ]
        }
      ],
      "source": [
        "IPython.display.Audio(data=noise_data, rate=noise_rate)"
      ]
    },
    {
      "cell_type": "markdown",
      "metadata": {
        "id": "2X242tfazTvT"
      },
      "source": [
        "### add noise to data"
      ]
    },
    {
      "cell_type": "code",
      "execution_count": null,
      "metadata": {
        "ExecuteTime": {
          "end_time": "2020-01-24T06:23:48.516177Z",
          "start_time": "2020-01-24T06:23:48.502314Z"
        },
        "id": "dB1PJyYVzTvU"
      },
      "outputs": [
        {
          "ename": "",
          "evalue": "",
          "output_type": "error",
          "traceback": [
            "\u001b[1;31mFailed to start the Kernel. \n",
            "\u001b[1;31mUnable to start Kernel 'Python 3.10.8' due to connection timeout. \n",
            "\u001b[1;31mView Jupyter <a href='command:jupyter.viewOutput'>log</a> for further details."
          ]
        }
      ],
      "source": [
        "snr = 2 # signal to noise ratio\n",
        "noise_clip = noise_data/snr\n",
        "audio_clip_cafe = data + noise_clip"
      ]
    },
    {
      "cell_type": "markdown",
      "metadata": {
        "id": "vqANErJqzTvU"
      },
      "source": [
        "### plot noisy data"
      ]
    },
    {
      "cell_type": "code",
      "execution_count": null,
      "metadata": {
        "ExecuteTime": {
          "end_time": "2020-01-24T06:23:48.934704Z",
          "start_time": "2020-01-24T06:23:48.517449Z"
        },
        "id": "yVuBFYtmzTvV",
        "outputId": "331f530b-16f9-4faa-aa73-4914dfa1a49d"
      },
      "outputs": [
        {
          "ename": "",
          "evalue": "",
          "output_type": "error",
          "traceback": [
            "\u001b[1;31mFailed to start the Kernel. \n",
            "\u001b[1;31mUnable to start Kernel 'Python 3.10.8' due to connection timeout. \n",
            "\u001b[1;31mView Jupyter <a href='command:jupyter.viewOutput'>log</a> for further details."
          ]
        }
      ],
      "source": [
        "fig, ax = plt.subplots(figsize=(20,4))\n",
        "ax.plot(audio_clip_cafe)\n",
        "IPython.display.Audio(data=audio_clip_cafe, rate=noise_rate)"
      ]
    },
    {
      "cell_type": "markdown",
      "metadata": {
        "id": "B_fvt7lGzTvW"
      },
      "source": [
        "### Stationary remove noise"
      ]
    },
    {
      "cell_type": "code",
      "execution_count": null,
      "metadata": {
        "ExecuteTime": {
          "end_time": "2020-01-24T06:23:47.537123Z",
          "start_time": "2020-01-24T06:23:46.137584Z"
        },
        "id": "MQcDgfJhzTvW",
        "scrolled": false
      },
      "outputs": [
        {
          "ename": "",
          "evalue": "",
          "output_type": "error",
          "traceback": [
            "\u001b[1;31mFailed to start the Kernel. \n",
            "\u001b[1;31mUnable to start Kernel 'Python 3.10.8' due to connection timeout. \n",
            "\u001b[1;31mView Jupyter <a href='command:jupyter.viewOutput'>log</a> for further details."
          ]
        }
      ],
      "source": [
        "reduced_noise = nr.reduce_noise(y = audio_clip_cafe, sr=rate, y_noise = noise_clip, n_std_thresh_stationary=1.5,stationary=True)"
      ]
    },
    {
      "cell_type": "code",
      "execution_count": null,
      "metadata": {
        "ExecuteTime": {
          "end_time": "2020-01-24T06:23:47.794652Z",
          "start_time": "2020-01-24T06:23:47.540334Z"
        },
        "id": "UeVvuWcBzTvk",
        "outputId": "23a5c119-b214-4e71-949b-1a466c603457"
      },
      "outputs": [
        {
          "ename": "",
          "evalue": "",
          "output_type": "error",
          "traceback": [
            "\u001b[1;31mFailed to start the Kernel. \n",
            "\u001b[1;31mUnable to start Kernel 'Python 3.10.8' due to connection timeout. \n",
            "\u001b[1;31mView Jupyter <a href='command:jupyter.viewOutput'>log</a> for further details."
          ]
        }
      ],
      "source": [
        "fig, ax = plt.subplots(figsize=(20,3))\n",
        "ax.plot(audio_clip_cafe)\n",
        "ax.plot(reduced_noise)"
      ]
    },
    {
      "cell_type": "code",
      "execution_count": null,
      "metadata": {
        "ExecuteTime": {
          "end_time": "2020-01-24T06:23:47.863889Z",
          "start_time": "2020-01-24T06:23:47.796686Z"
        },
        "id": "Ezv7hvguzTv-",
        "outputId": "327f8400-3487-4e28-abc9-461a6a520dbf"
      },
      "outputs": [
        {
          "ename": "",
          "evalue": "",
          "output_type": "error",
          "traceback": [
            "\u001b[1;31mFailed to start the Kernel. \n",
            "\u001b[1;31mUnable to start Kernel 'Python 3.10.8' due to connection timeout. \n",
            "\u001b[1;31mView Jupyter <a href='command:jupyter.viewOutput'>log</a> for further details."
          ]
        }
      ],
      "source": [
        "IPython.display.Audio(data=reduced_noise, rate=rate)"
      ]
    },
    {
      "cell_type": "markdown",
      "metadata": {
        "id": "HnB9O_GkzTwH"
      },
      "source": [
        "### Non-stationary noise reduction"
      ]
    },
    {
      "cell_type": "code",
      "execution_count": null,
      "metadata": {
        "id": "sGMr-irRzTwI"
      },
      "outputs": [
        {
          "ename": "",
          "evalue": "",
          "output_type": "error",
          "traceback": [
            "\u001b[1;31mFailed to start the Kernel. \n",
            "\u001b[1;31mUnable to start Kernel 'Python 3.10.8' due to connection timeout. \n",
            "\u001b[1;31mView Jupyter <a href='command:jupyter.viewOutput'>log</a> for further details."
          ]
        }
      ],
      "source": [
        "reduced_noise = nr.reduce_noise(y = audio_clip_cafe, sr=rate, thresh_n_mult_nonstationary=2,stationary=False)"
      ]
    },
    {
      "cell_type": "code",
      "execution_count": null,
      "metadata": {
        "ExecuteTime": {
          "end_time": "2020-01-24T06:23:55.649193Z",
          "start_time": "2020-01-24T06:23:55.225762Z"
        },
        "id": "Vbfu1nhczTwJ",
        "outputId": "4ad4f068-f0a2-42ba-b2b4-9ec18e55533d"
      },
      "outputs": [
        {
          "ename": "",
          "evalue": "",
          "output_type": "error",
          "traceback": [
            "\u001b[1;31mFailed to start the Kernel. \n",
            "\u001b[1;31mUnable to start Kernel 'Python 3.10.8' due to connection timeout. \n",
            "\u001b[1;31mView Jupyter <a href='command:jupyter.viewOutput'>log</a> for further details."
          ]
        }
      ],
      "source": [
        "fig, ax = plt.subplots(figsize=(20,3))\n",
        "ax.plot(audio_clip_cafe)\n",
        "ax.plot(reduced_noise, alpha = 1)\n",
        "IPython.display.Audio(data=reduced_noise, rate=rate)"
      ]
    },
    {
      "cell_type": "code",
      "execution_count": null,
      "metadata": {
        "id": "pBljHKMizTwJ",
        "outputId": "28ffd604-72f6-4a7e-8edb-f2ed483ebbb2"
      },
      "outputs": [
        {
          "ename": "",
          "evalue": "",
          "output_type": "error",
          "traceback": [
            "\u001b[1;31mFailed to start the Kernel. \n",
            "\u001b[1;31mUnable to start Kernel 'Python 3.10.8' due to connection timeout. \n",
            "\u001b[1;31mView Jupyter <a href='command:jupyter.viewOutput'>log</a> for further details."
          ]
        }
      ],
      "source": [
        "IPython.display.Audio(data=reduced_noise, rate=rate)"
      ]
    },
    {
      "cell_type": "markdown",
      "metadata": {
        "id": "N9JlxDnSzTwK"
      },
      "source": [
        "### ensure that noise reduction does not cause distortion when prop_decrease == 0"
      ]
    },
    {
      "cell_type": "code",
      "execution_count": null,
      "metadata": {
        "ExecuteTime": {
          "end_time": "2020-01-24T06:24:53.912192Z",
          "start_time": "2020-01-24T06:24:53.332737Z"
        },
        "id": "dRcfAFcozTwL"
      },
      "outputs": [
        {
          "ename": "",
          "evalue": "",
          "output_type": "error",
          "traceback": [
            "\u001b[1;31mFailed to start the Kernel. \n",
            "\u001b[1;31mUnable to start Kernel 'Python 3.10.8' due to connection timeout. \n",
            "\u001b[1;31mView Jupyter <a href='command:jupyter.viewOutput'>log</a> for further details."
          ]
        }
      ],
      "source": [
        "noise_reduced = nr.reduce_noise(y=data, sr=rate, prop_decrease=0, stationary=False)"
      ]
    },
    {
      "cell_type": "code",
      "execution_count": null,
      "metadata": {
        "ExecuteTime": {
          "end_time": "2020-01-24T06:24:54.091032Z",
          "start_time": "2020-01-24T06:24:53.913458Z"
        },
        "id": "dujETsk8zTwL",
        "outputId": "fc70e2ca-0d9d-4406-dcdd-4eb8f0ca3c9e"
      },
      "outputs": [
        {
          "ename": "",
          "evalue": "",
          "output_type": "error",
          "traceback": [
            "\u001b[1;31mFailed to start the Kernel. \n",
            "\u001b[1;31mUnable to start Kernel 'Python 3.10.8' due to connection timeout. \n",
            "\u001b[1;31mView Jupyter <a href='command:jupyter.viewOutput'>log</a> for further details."
          ]
        }
      ],
      "source": [
        "fig, axs = plt.subplots(nrows=2, figsize=(20,6))\n",
        "axs[0].plot(data[3000:5000])\n",
        "axs[0].plot(noise_reduced[3000:5000])\n",
        "axs[1].plot(data)\n",
        "axs[1].plot(noise_reduced)"
      ]
    },
    {
      "cell_type": "code",
      "execution_count": null,
      "metadata": {
        "ExecuteTime": {
          "end_time": "2020-01-24T06:24:53.912192Z",
          "start_time": "2020-01-24T06:24:53.332737Z"
        },
        "id": "AZFyMYUezTwM"
      },
      "outputs": [
        {
          "ename": "",
          "evalue": "",
          "output_type": "error",
          "traceback": [
            "\u001b[1;31mFailed to start the Kernel. \n",
            "\u001b[1;31mUnable to start Kernel 'Python 3.10.8' due to connection timeout. \n",
            "\u001b[1;31mView Jupyter <a href='command:jupyter.viewOutput'>log</a> for further details."
          ]
        }
      ],
      "source": [
        "noise_reduced = nr.reduce_noise(y=data, sr=rate, prop_decrease=0, stationary=False)"
      ]
    },
    {
      "cell_type": "code",
      "execution_count": null,
      "metadata": {
        "ExecuteTime": {
          "end_time": "2020-01-24T06:24:54.091032Z",
          "start_time": "2020-01-24T06:24:53.913458Z"
        },
        "id": "L-Ewf8RezTwM",
        "outputId": "67d05704-6a2f-4e6b-d4e6-5809a3bc398e"
      },
      "outputs": [
        {
          "ename": "",
          "evalue": "",
          "output_type": "error",
          "traceback": [
            "\u001b[1;31mFailed to start the Kernel. \n",
            "\u001b[1;31mUnable to start Kernel 'Python 3.10.8' due to connection timeout. \n",
            "\u001b[1;31mView Jupyter <a href='command:jupyter.viewOutput'>log</a> for further details."
          ]
        }
      ],
      "source": [
        "fig, axs = plt.subplots(nrows=2, figsize=(20,6))\n",
        "axs[0].plot(data[3000:5000])\n",
        "axs[0].plot(noise_reduced[3000:5000])\n",
        "axs[1].plot(data)\n",
        "axs[1].plot(noise_reduced)"
      ]
    },
    {
      "cell_type": "markdown",
      "metadata": {
        "id": "nsU3wAfjzTwN"
      },
      "source": [
        "### Reduce noise over batches in parallel on long signal"
      ]
    },
    {
      "cell_type": "code",
      "execution_count": null,
      "metadata": {
        "id": "JdAD4DVPzTwN"
      },
      "outputs": [
        {
          "ename": "",
          "evalue": "",
          "output_type": "error",
          "traceback": [
            "\u001b[1;31mFailed to start the Kernel. \n",
            "\u001b[1;31mUnable to start Kernel 'Python 3.10.8' due to connection timeout. \n",
            "\u001b[1;31mView Jupyter <a href='command:jupyter.viewOutput'>log</a> for further details."
          ]
        }
      ],
      "source": [
        "long_data = np.tile(data, 10)\n",
        "len(long_data)/rate"
      ]
    },
    {
      "cell_type": "code",
      "execution_count": null,
      "metadata": {
        "id": "xQOhIOkOzTwO",
        "outputId": "6cdbb35c-793e-4e92-e99c-771821b3390d"
      },
      "outputs": [
        {
          "ename": "",
          "evalue": "",
          "output_type": "error",
          "traceback": [
            "\u001b[1;31mFailed to start the Kernel. \n",
            "\u001b[1;31mUnable to start Kernel 'Python 3.10.8' due to connection timeout. \n",
            "\u001b[1;31mView Jupyter <a href='command:jupyter.viewOutput'>log</a> for further details."
          ]
        }
      ],
      "source": [
        "fig, ax = plt.subplots(figsize=(20,4))\n",
        "ax.plot(long_data)"
      ]
    },
    {
      "cell_type": "code",
      "execution_count": null,
      "metadata": {
        "ExecuteTime": {
          "end_time": "2020-01-24T06:23:45.789926Z",
          "start_time": "2020-01-24T06:23:45.731671Z"
        },
        "id": "N2ffa2V3zTwO"
      },
      "outputs": [
        {
          "ename": "",
          "evalue": "",
          "output_type": "error",
          "traceback": [
            "\u001b[1;31mFailed to start the Kernel. \n",
            "\u001b[1;31mUnable to start Kernel 'Python 3.10.8' due to connection timeout. \n",
            "\u001b[1;31mView Jupyter <a href='command:jupyter.viewOutput'>log</a> for further details."
          ]
        }
      ],
      "source": [
        "noise = band_limited_noise(min_freq=2000, max_freq = 12000, samples=len(long_data), samplerate=rate)*10\n",
        "audio_clip_band_limited = long_data+noise"
      ]
    },
    {
      "cell_type": "code",
      "execution_count": null,
      "metadata": {
        "ExecuteTime": {
          "end_time": "2020-01-24T06:23:46.068009Z",
          "start_time": "2020-01-24T06:23:45.791074Z"
        },
        "id": "M0oAhNFBzTwP",
        "outputId": "a5da43b1-1919-4e71-f7d7-5ad8f69e8aed"
      },
      "outputs": [
        {
          "ename": "",
          "evalue": "",
          "output_type": "error",
          "traceback": [
            "\u001b[1;31mFailed to start the Kernel. \n",
            "\u001b[1;31mUnable to start Kernel 'Python 3.10.8' due to connection timeout. \n",
            "\u001b[1;31mView Jupyter <a href='command:jupyter.viewOutput'>log</a> for further details."
          ]
        }
      ],
      "source": [
        "fig, ax = plt.subplots(figsize=(20,3))\n",
        "ax.plot(audio_clip_band_limited)"
      ]
    },
    {
      "cell_type": "code",
      "execution_count": null,
      "metadata": {
        "colab": {
          "referenced_widgets": [
            "10289685ffd14d64a6ec99fbae34511c"
          ]
        },
        "id": "vn3Hbw5TzTwP",
        "outputId": "abfc13ea-7126-422a-c2ff-e729e26423d4"
      },
      "outputs": [
        {
          "ename": "",
          "evalue": "",
          "output_type": "error",
          "traceback": [
            "\u001b[1;31mFailed to start the Kernel. \n",
            "\u001b[1;31mUnable to start Kernel 'Python 3.10.8' due to connection timeout. \n",
            "\u001b[1;31mView Jupyter <a href='command:jupyter.viewOutput'>log</a> for further details."
          ]
        }
      ],
      "source": [
        "reduced_noise = nr.reduce_noise(\n",
        "    y=audio_clip_band_limited,\n",
        "    sr=rate,\n",
        "    thresh_n_mult_nonstationary=2,\n",
        "    stationary=False,\n",
        "    n_jobs=2,\n",
        ")"
      ]
    },
    {
      "cell_type": "code",
      "execution_count": null,
      "metadata": {
        "id": "QTuMr06VzTwQ"
      },
      "outputs": [
        {
          "ename": "",
          "evalue": "",
          "output_type": "error",
          "traceback": [
            "\u001b[1;31mFailed to start the Kernel. \n",
            "\u001b[1;31mUnable to start Kernel 'Python 3.10.8' due to connection timeout. \n",
            "\u001b[1;31mView Jupyter <a href='command:jupyter.viewOutput'>log</a> for further details."
          ]
        }
      ],
      "source": [
        "fig, ax = plt.subplots(figsize=(20,3))\n",
        "ax.plot(audio_clip_band_limited)\n",
        "ax.plot(reduced_noise)"
      ]
    },
    {
      "cell_type": "code",
      "execution_count": null,
      "metadata": {
        "colab": {
          "referenced_widgets": [
            "a204af2e418a44268dc84164f5f8ff20"
          ]
        },
        "id": "AJgeH2rhzTwQ",
        "outputId": "c7947996-9a55-41d3-9376-af16e9fa5684"
      },
      "outputs": [
        {
          "ename": "",
          "evalue": "",
          "output_type": "error",
          "traceback": [
            "\u001b[1;31mFailed to start the Kernel. \n",
            "\u001b[1;31mUnable to start Kernel 'Python 3.10.8' due to connection timeout. \n",
            "\u001b[1;31mView Jupyter <a href='command:jupyter.viewOutput'>log</a> for further details."
          ]
        }
      ],
      "source": [
        "reduced_noise = nr.reduce_noise(\n",
        "    y=audio_clip_band_limited,\n",
        "    sr=rate,\n",
        "    thresh_n_mult_nonstationary=2,\n",
        "    stationary=True,\n",
        "    n_jobs=2,\n",
        ")"
      ]
    },
    {
      "cell_type": "code",
      "execution_count": null,
      "metadata": {
        "id": "r6rbWt-NzTwR",
        "outputId": "f5ae20da-d72c-4435-bb2b-29b42f842615"
      },
      "outputs": [
        {
          "ename": "",
          "evalue": "",
          "output_type": "error",
          "traceback": [
            "\u001b[1;31mFailed to start the Kernel. \n",
            "\u001b[1;31mUnable to start Kernel 'Python 3.10.8' due to connection timeout. \n",
            "\u001b[1;31mView Jupyter <a href='command:jupyter.viewOutput'>log</a> for further details."
          ]
        }
      ],
      "source": [
        "fig, ax = plt.subplots(figsize=(20,3))\n",
        "ax.plot(audio_clip_band_limited)\n",
        "ax.plot(reduced_noise)"
      ]
    },
    {
      "cell_type": "markdown",
      "metadata": {
        "id": "Dw1FzE6kzTwS"
      },
      "source": [
        "### Reduce noise on only a subset of a long clip"
      ]
    },
    {
      "cell_type": "code",
      "execution_count": null,
      "metadata": {
        "id": "1SdW_jUhzTwS"
      },
      "outputs": [
        {
          "ename": "",
          "evalue": "",
          "output_type": "error",
          "traceback": [
            "\u001b[1;31mFailed to start the Kernel. \n",
            "\u001b[1;31mUnable to start Kernel 'Python 3.10.8' due to connection timeout. \n",
            "\u001b[1;31mView Jupyter <a href='command:jupyter.viewOutput'>log</a> for further details."
          ]
        }
      ],
      "source": [
        "from noisereduce.noisereduce import SpectralGateStationary"
      ]
    },
    {
      "cell_type": "code",
      "execution_count": null,
      "metadata": {
        "id": "spa5uG3uzTwS"
      },
      "outputs": [
        {
          "ename": "",
          "evalue": "",
          "output_type": "error",
          "traceback": [
            "\u001b[1;31mFailed to start the Kernel. \n",
            "\u001b[1;31mUnable to start Kernel 'Python 3.10.8' due to connection timeout. \n",
            "\u001b[1;31mView Jupyter <a href='command:jupyter.viewOutput'>log</a> for further details."
          ]
        }
      ],
      "source": [
        "sg = SpectralGateStationary(\n",
        "    y = data,\n",
        "    sr = rate,\n",
        "    y_noise=None,\n",
        "    prop_decrease=1.0,\n",
        "    time_constant_s=2.0,\n",
        "    freq_mask_smooth_hz=500,\n",
        "    time_mask_smooth_ms=50,\n",
        "    n_std_thresh_stationary=1.5,\n",
        "    tmp_folder=None,\n",
        "    chunk_size=600000,\n",
        "    padding=30000,\n",
        "    n_fft=1024,\n",
        "    win_length=None,\n",
        "    hop_length=None,\n",
        "    clip_noise_stationary=True,\n",
        "    use_tqdm=False,\n",
        "    n_jobs=1,\n",
        ")"
      ]
    },
    {
      "cell_type": "code",
      "execution_count": null,
      "metadata": {
        "id": "c2H_c6ghzTwU"
      },
      "outputs": [
        {
          "ename": "",
          "evalue": "",
          "output_type": "error",
          "traceback": [
            "\u001b[1;31mFailed to start the Kernel. \n",
            "\u001b[1;31mUnable to start Kernel 'Python 3.10.8' due to connection timeout. \n",
            "\u001b[1;31mView Jupyter <a href='command:jupyter.viewOutput'>log</a> for further details."
          ]
        }
      ],
      "source": [
        "subset_noise_reduce = sg.get_traces(start_frame = 10000, end_frame = 20000)"
      ]
    },
    {
      "cell_type": "code",
      "execution_count": null,
      "metadata": {
        "id": "g9j2TjVBzTwU",
        "outputId": "9383d538-0c36-4d51-c9c8-90c744dbabdd"
      },
      "outputs": [
        {
          "ename": "",
          "evalue": "",
          "output_type": "error",
          "traceback": [
            "\u001b[1;31mFailed to start the Kernel. \n",
            "\u001b[1;31mUnable to start Kernel 'Python 3.10.8' due to connection timeout. \n",
            "\u001b[1;31mView Jupyter <a href='command:jupyter.viewOutput'>log</a> for further details."
          ]
        }
      ],
      "source": [
        "fig, ax = plt.subplots(figsize=(20,3))\n",
        "ax.plot(subset_noise_reduce)"
      ]
    },
    {
      "cell_type": "markdown",
      "metadata": {
        "id": "kdLzvQVwzTwV"
      },
      "source": [
        "## Multichannel noise"
      ]
    },
    {
      "cell_type": "code",
      "execution_count": null,
      "metadata": {
        "id": "abm3DVMBzTwW",
        "outputId": "a5d8fc22-ef53-4a95-fb97-13c3749cdabb"
      },
      "outputs": [
        {
          "ename": "",
          "evalue": "",
          "output_type": "error",
          "traceback": [
            "\u001b[1;31mFailed to start the Kernel. \n",
            "\u001b[1;31mUnable to start Kernel 'Python 3.10.8' due to connection timeout. \n",
            "\u001b[1;31mView Jupyter <a href='command:jupyter.viewOutput'>log</a> for further details."
          ]
        }
      ],
      "source": [
        "audio_clip_cafe_2_channel = np.vstack([audio_clip_cafe, audio_clip_cafe])\n",
        "audio_clip_cafe_2_channel.shape"
      ]
    },
    {
      "cell_type": "code",
      "execution_count": null,
      "metadata": {
        "ExecuteTime": {
          "end_time": "2020-01-24T06:23:47.537123Z",
          "start_time": "2020-01-24T06:23:46.137584Z"
        },
        "id": "b6m7nz4szTwX",
        "scrolled": false
      },
      "outputs": [
        {
          "ename": "",
          "evalue": "",
          "output_type": "error",
          "traceback": [
            "\u001b[1;31mFailed to start the Kernel. \n",
            "\u001b[1;31mUnable to start Kernel 'Python 3.10.8' due to connection timeout. \n",
            "\u001b[1;31mView Jupyter <a href='command:jupyter.viewOutput'>log</a> for further details."
          ]
        }
      ],
      "source": [
        "reduced_noise = nr.reduce_noise(y = audio_clip_cafe_2_channel, sr=rate, n_std_thresh_stationary=1.5,stationary=True)"
      ]
    },
    {
      "cell_type": "code",
      "execution_count": null,
      "metadata": {
        "id": "t7yp17_FzTwY",
        "outputId": "e7354834-a768-4d5f-c73a-9e48751cccc7"
      },
      "outputs": [
        {
          "ename": "",
          "evalue": "",
          "output_type": "error",
          "traceback": [
            "\u001b[1;31mFailed to start the Kernel. \n",
            "\u001b[1;31mUnable to start Kernel 'Python 3.10.8' due to connection timeout. \n",
            "\u001b[1;31mView Jupyter <a href='command:jupyter.viewOutput'>log</a> for further details."
          ]
        }
      ],
      "source": [
        "reduced_noise.shape"
      ]
    },
    {
      "cell_type": "code",
      "execution_count": null,
      "metadata": {
        "ExecuteTime": {
          "end_time": "2020-01-24T06:23:47.794652Z",
          "start_time": "2020-01-24T06:23:47.540334Z"
        },
        "id": "F1MwWGM9zTwZ",
        "outputId": "d629e01e-4b40-4a53-d9d3-854329daecde"
      },
      "outputs": [
        {
          "ename": "",
          "evalue": "",
          "output_type": "error",
          "traceback": [
            "\u001b[1;31mFailed to start the Kernel. \n",
            "\u001b[1;31mUnable to start Kernel 'Python 3.10.8' due to connection timeout. \n",
            "\u001b[1;31mView Jupyter <a href='command:jupyter.viewOutput'>log</a> for further details."
          ]
        }
      ],
      "source": [
        "fig, axs = plt.subplots(nrows= 2, figsize=(20,5))\n",
        "axs[0].plot(audio_clip_cafe_2_channel[0])\n",
        "axs[1].plot(audio_clip_cafe_2_channel[1])\n",
        "\n",
        "axs[0].plot(reduced_noise[0])\n",
        "axs[1].plot(reduced_noise[1])"
      ]
    },
    {
      "cell_type": "code",
      "execution_count": null,
      "metadata": {
        "ExecuteTime": {
          "end_time": "2020-01-24T06:23:47.863889Z",
          "start_time": "2020-01-24T06:23:47.796686Z"
        },
        "id": "Jnb20dhqzTwa",
        "outputId": "547dbec6-4209-4ae5-c5f7-e6634fa4e0aa"
      },
      "outputs": [
        {
          "ename": "",
          "evalue": "",
          "output_type": "error",
          "traceback": [
            "\u001b[1;31mFailed to start the Kernel. \n",
            "\u001b[1;31mUnable to start Kernel 'Python 3.10.8' due to connection timeout. \n",
            "\u001b[1;31mView Jupyter <a href='command:jupyter.viewOutput'>log</a> for further details."
          ]
        }
      ],
      "source": [
        "IPython.display.Audio(data=reduced_noise, rate=rate)"
      ]
    },
    {
      "cell_type": "code",
      "execution_count": null,
      "metadata": {
        "id": "c_hrLiyWzTwb"
      },
      "outputs": [
        {
          "ename": "",
          "evalue": "",
          "output_type": "error",
          "traceback": [
            "\u001b[1;31mFailed to start the Kernel. \n",
            "\u001b[1;31mUnable to start Kernel 'Python 3.10.8' due to connection timeout. \n",
            "\u001b[1;31mView Jupyter <a href='command:jupyter.viewOutput'>log</a> for further details."
          ]
        }
      ],
      "source": [
        "reduced_noise = nr.reduce_noise(y = audio_clip_cafe, sr=rate, thresh_n_mult_nonstationary=2,stationary=False)"
      ]
    },
    {
      "cell_type": "code",
      "execution_count": null,
      "metadata": {
        "id": "-OAMQ7OwzTwg",
        "outputId": "ddb4a92f-fd05-4de1-ef67-95b3aa4b4f2e"
      },
      "outputs": [
        {
          "ename": "",
          "evalue": "",
          "output_type": "error",
          "traceback": [
            "\u001b[1;31mFailed to start the Kernel. \n",
            "\u001b[1;31mUnable to start Kernel 'Python 3.10.8' due to connection timeout. \n",
            "\u001b[1;31mView Jupyter <a href='command:jupyter.viewOutput'>log</a> for further details."
          ]
        }
      ],
      "source": [
        "reduced_noise.shape"
      ]
    },
    {
      "cell_type": "code",
      "execution_count": null,
      "metadata": {
        "ExecuteTime": {
          "end_time": "2020-01-24T06:23:55.649193Z",
          "start_time": "2020-01-24T06:23:55.225762Z"
        },
        "id": "T6a84P33zTwh",
        "outputId": "219bb950-4fca-4bd8-efcb-b0a2cfd5c394"
      },
      "outputs": [
        {
          "ename": "",
          "evalue": "",
          "output_type": "error",
          "traceback": [
            "\u001b[1;31mFailed to start the Kernel. \n",
            "\u001b[1;31mUnable to start Kernel 'Python 3.10.8' due to connection timeout. \n",
            "\u001b[1;31mView Jupyter <a href='command:jupyter.viewOutput'>log</a> for further details."
          ]
        }
      ],
      "source": [
        "fig, ax = plt.subplots(figsize=(20,3))\n",
        "ax.plot(audio_clip_cafe)\n",
        "ax.plot(reduced_noise, alpha = 1)\n",
        "IPython.display.Audio(data=reduced_noise, rate=rate)"
      ]
    },
    {
      "cell_type": "code",
      "execution_count": null,
      "metadata": {
        "id": "pyySk6U-zTwi"
      },
      "outputs": [
        {
          "ename": "",
          "evalue": "",
          "output_type": "error",
          "traceback": [
            "\u001b[1;31mFailed to start the Kernel. \n",
            "\u001b[1;31mUnable to start Kernel 'Python 3.10.8' due to connection timeout. \n",
            "\u001b[1;31mView Jupyter <a href='command:jupyter.viewOutput'>log</a> for further details."
          ]
        }
      ],
      "source": []
    }
  ],
  "metadata": {
    "accelerator": "GPU",
    "colab": {
      "provenance": [],
      "toc_visible": true
    },
    "kernelspec": {
      "display_name": "Python 3",
      "language": "python",
      "name": "python3"
    },
    "language_info": {
      "codemirror_mode": {
        "name": "ipython",
        "version": 3
      },
      "file_extension": ".py",
      "mimetype": "text/x-python",
      "name": "python",
      "nbconvert_exporter": "python",
      "pygments_lexer": "ipython3",
      "version": "3.10.8"
    }
  },
  "nbformat": 4,
  "nbformat_minor": 0
}
